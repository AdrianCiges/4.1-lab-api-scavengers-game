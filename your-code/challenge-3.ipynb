{
 "cells": [
  {
   "cell_type": "markdown",
   "id": "defensive-clock",
   "metadata": {},
   "source": [
    "# Challenge 3: Hidden Cold Joke\n",
    "\n",
    "Using Python, call Github API to find out the cold joke contained in the 24 secret files in the following repo:\n",
    "\n",
    "https://github.com/ironhack-datalabs/scavenger\n",
    "\n",
    "The filenames of the secret files contain .scavengerhunt and they are scattered in different directories of this repo. The secret files are named from .0001.scavengerhunt to .0024.scavengerhunt. They are scattered randomly throughout this repo. You need to search for these files by calling the Github API, not searching the local files on your computer.\n",
    "\n",
    "\n",
    "After you find out the secrete files:\n",
    "\n",
    "Sort the filenames ascendingly.\n",
    "\n",
    "Read the content of each secret files into an array of strings.\n",
    "\n",
    "Concatenate the strings in the array separating each two with a whitespace.\n",
    "\n",
    "Print out the joke."
   ]
  },
  {
   "cell_type": "markdown",
   "id": "universal-length",
   "metadata": {},
   "source": [
    "⚠️ **Remember to limit your output before submission**."
   ]
  },
  {
   "cell_type": "code",
   "execution_count": null,
   "id": "7db16d3f",
   "metadata": {},
   "outputs": [],
   "source": [
    "import requests as req"
   ]
  },
  {
   "cell_type": "code",
   "execution_count": null,
   "id": "toxic-trading",
   "metadata": {},
   "outputs": [],
   "source": [
    "url = 'https://api.github.com/repos/ironhack-datalabs/scavenger/contents'"
   ]
  },
  {
   "cell_type": "code",
   "execution_count": null,
   "id": "static-stopping",
   "metadata": {},
   "outputs": [],
   "source": [
    "with open('./Token.txt', 'r') as pwd:\n",
    "    pass_ = pwd.readlines()[0]\n",
    "\n",
    "req.get(url, headers = {'Authorization': f'token {pass_}'})"
   ]
  },
  {
   "cell_type": "code",
   "execution_count": null,
   "id": "5d756fe3",
   "metadata": {},
   "outputs": [],
   "source": [
    "response = req.get(url, headers = {'Authorization': f'token {pass_}'})\n",
    "response.json()[-100:]"
   ]
  },
  {
   "cell_type": "code",
   "execution_count": null,
   "id": "e4c3483a",
   "metadata": {},
   "outputs": [],
   "source": [
    "jason = response.json()\n",
    "\n",
    "urls = []\n",
    "for i in jason:\n",
    "    for k,v in i.items():\n",
    "        if k == 'url' and '.gitignore' not in v:\n",
    "            urls.append(v)\n",
    "\n",
    "urls"
   ]
  },
  {
   "cell_type": "code",
   "execution_count": null,
   "id": "3c0cd321",
   "metadata": {},
   "outputs": [],
   "source": [
    "url1 = 'https://api.github.com/repos/ironhack-datalabs/scavenger/contents/.gitignore?ref=master'"
   ]
  },
  {
   "cell_type": "code",
   "execution_count": null,
   "id": "b75fa1f9",
   "metadata": {},
   "outputs": [],
   "source": [
    "req.get(url1, headers = {'Authorization': f'token {pass_}'})"
   ]
  },
  {
   "cell_type": "code",
   "execution_count": null,
   "id": "ada87841",
   "metadata": {},
   "outputs": [],
   "source": [
    "requests = []\n",
    "for i in urls:\n",
    "    requests.append(req.get(i, headers = {'Authorization': f'token {pass_}'}))\n",
    "    \n",
    "requests #Too much, me echa. Uno por uno?"
   ]
  },
  {
   "cell_type": "code",
   "execution_count": null,
   "id": "6710dde6",
   "metadata": {
    "scrolled": true
   },
   "outputs": [],
   "source": [
    "response = req.get(url1, headers = {'Authorization': f'token {pass_}'})\n",
    "response.json() #Base64... no sé como acceder al archivo"
   ]
  },
  {
   "cell_type": "markdown",
   "id": "4668e9df",
   "metadata": {},
   "source": [
    "### Por aquí mal, empezamos de 0"
   ]
  },
  {
   "cell_type": "code",
   "execution_count": null,
   "id": "071d39cb",
   "metadata": {},
   "outputs": [],
   "source": [
    "import base64\n",
    "coded_string = 'bmVlZAo=\\n'\n",
    "base64.b64decode(coded_string)"
   ]
  },
  {
   "cell_type": "code",
   "execution_count": null,
   "id": "45374cef",
   "metadata": {},
   "outputs": [],
   "source": [
    "url1 = 'https://api.github.com/repos/ironhack-datalabs/scavenger/contents/15024?ref=master'\n",
    "guarda1 = req.get(url1)\n",
    "guarda1.json()[-100:]"
   ]
  },
  {
   "cell_type": "code",
   "execution_count": null,
   "id": "0a734e3a",
   "metadata": {
    "scrolled": false
   },
   "outputs": [],
   "source": [
    "import base64\n",
    "\n",
    "jason = response.json()\n",
    "dictio = {}\n",
    "\n",
    "for sub_dic in jason:\n",
    "    \n",
    "    if sub_dic['name'] != '.gitignore':\n",
    "        files = req.get(sub_dic['url']).json()\n",
    "        \n",
    "        for file in files:\n",
    "            \n",
    "            if file['name'] and file['name'].endswith('.scavengerhunt'):\n",
    "                \n",
    "                key_name = file['name']\n",
    "                info_file = req.get(file['url']).json()\n",
    "                value = base64.b64decode(info_file['content'])\n",
    "                dictio[key_name] = value\n",
    "dictio"
   ]
  },
  {
   "cell_type": "code",
   "execution_count": null,
   "id": "b4c888f4",
   "metadata": {},
   "outputs": [],
   "source": [
    "dictio_ordenado = dict(sorted(dictio.items()))\n",
    "\n",
    "frase = \"\"\n",
    "for key,txt in dictio_ordenado.items():\n",
    "    frase += txt.decode('latin1').replace('\\n', \" \") #puedo usar uft-8\n",
    "\n",
    "print(frase)"
   ]
  }
 ],
 "metadata": {
  "kernelspec": {
   "display_name": "Python 3 (ipykernel)",
   "language": "python",
   "name": "python3"
  },
  "language_info": {
   "codemirror_mode": {
    "name": "ipython",
    "version": 3
   },
   "file_extension": ".py",
   "mimetype": "text/x-python",
   "name": "python",
   "nbconvert_exporter": "python",
   "pygments_lexer": "ipython3",
   "version": "3.9.12"
  },
  "toc": {
   "base_numbering": 1,
   "nav_menu": {},
   "number_sections": true,
   "sideBar": true,
   "skip_h1_title": true,
   "title_cell": "Table of Contents",
   "title_sidebar": "Contents",
   "toc_cell": false,
   "toc_position": {},
   "toc_section_display": true,
   "toc_window_display": true
  }
 },
 "nbformat": 4,
 "nbformat_minor": 5
}
